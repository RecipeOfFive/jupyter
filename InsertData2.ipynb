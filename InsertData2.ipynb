{
 "cells": [
  {
   "cell_type": "code",
   "execution_count": 14,
   "metadata": {},
   "outputs": [],
   "source": [
    "import pymysql\n",
    "from dotenv import load_dotenv\n",
    "import os\n",
    "\n",
    "load_dotenv()\n",
    "\n",
    "db = pymysql.connect(\n",
    "    host=os.getenv('DATABASE_HOST'),\n",
    "    port=int(os.getenv('DATABASE_PORT')),\n",
    "    user=os.getenv('DATABASE_USER'),\n",
    "    passwd=os.getenv('DATABASE_PASSWORD'),\n",
    "    db=os.getenv('DATABASE_DATABASE'),\n",
    "    charset='utf8'\n",
    "    )\n",
    "\n",
    "con = db.cursor()"
   ]
  },
  {
   "cell_type": "code",
   "execution_count": 15,
   "metadata": {},
   "outputs": [],
   "source": [
    "sql = \"SELECT * FROM food\"\n",
    "con.execute(sql)\n",
    "results = con.fetchall()\n",
    "for row in results:\n",
    "    print(row)"
   ]
  },
  {
   "cell_type": "code",
   "execution_count": 16,
   "metadata": {},
   "outputs": [],
   "source": [
    "import json\n",
    "\n",
    "with open('./recipe1~1000.json', 'r') as file:\n",
    "    data = json.load(file)"
   ]
  },
  {
   "cell_type": "code",
   "execution_count": 17,
   "metadata": {},
   "outputs": [
    {
     "name": "stdout",
     "output_type": "stream",
     "text": [
      "{'RCP_PARTS_DTLS': '새우두부계란찜\\n연두부 75g(3/4모), 칵테일새우 20g(5마리), 달걀 30g(1/2개), 생크림 13g(1큰술), 설탕 5g(1작은술), 무염버터 5g(1작은술)\\n고명\\n시금치 10g(3줄기)', 'RCP_WAY2': '찌기', 'MANUAL_IMG20': '', 'MANUAL20': '', 'RCP_SEQ': '28', 'INFO_NA': '99', 'INFO_WGT': '', 'INFO_PRO': '14', 'MANUAL_IMG13': '', 'MANUAL_IMG14': '', 'MANUAL_IMG15': '', 'MANUAL_IMG16': '', 'MANUAL_IMG10': '', 'MANUAL_IMG11': '', 'MANUAL_IMG12': '', 'MANUAL_IMG17': '', 'MANUAL_IMG18': '', 'MANUAL_IMG19': '', 'INFO_FAT': '17', 'HASH_TAG': '연두부', 'MANUAL_IMG02': 'http://www.foodsafetykorea.go.kr/uploadimg/cook/20_00028_2.png', 'MANUAL_IMG03': 'http://www.foodsafetykorea.go.kr/uploadimg/cook/20_00028_3.png', 'RCP_PAT2': '반찬', 'MANUAL_IMG04': '', 'MANUAL_IMG05': '', 'MANUAL_IMG01': 'http://www.foodsafetykorea.go.kr/uploadimg/cook/20_00028_1.png', 'MANUAL01': '1. 손질된 새우를 끓는 물에 데쳐 건진다.a', 'ATT_FILE_NO_MK': 'http://www.foodsafetykorea.go.kr/uploadimg/cook/10_00028_1.png', 'MANUAL_IMG06': '', 'MANUAL_IMG07': '', 'MANUAL_IMG08': '', 'MANUAL_IMG09': '', 'MANUAL08': '', 'MANUAL09': '', 'MANUAL06': '', 'MANUAL07': '', 'MANUAL04': '', 'MANUAL05': '', 'MANUAL02': '2. 연두부, 달걀, 생크림, 설탕에 녹인 무염버터를 믹서에 넣고 간 뒤 새우(1)를 함께 섞어 그릇에 담는다.b', 'MANUAL03': '3. 시금치를 잘게 다져 혼합물 그릇(2)에 뿌리고 찜기에 넣고 중간 불에서 10분 정도 찐다.c', 'ATT_FILE_NO_MAIN': 'http://www.foodsafetykorea.go.kr/uploadimg/cook/10_00028_2.png', 'MANUAL11': '', 'MANUAL12': '', 'MANUAL10': '', 'INFO_CAR': '3', 'MANUAL19': '', 'RCP_NA_TIP': '나트륨의 배출을 도와주는 것으로 알려진 칼륨이 풍부한 시금치와 소금, 간장 등의 양념 대신 새우에 들어있는 간으로 맛을 내요.', 'INFO_ENG': '220', 'MANUAL17': '', 'MANUAL18': '', 'RCP_NM': '새우 두부 계란찜', 'MANUAL15': '', 'MANUAL16': '', 'MANUAL13': '', 'MANUAL14': ''}\n"
     ]
    }
   ],
   "source": [
    "foodList = data[\"COOKRCP01\"][\"row\"]\n",
    "print(foodList[0])"
   ]
  },
  {
   "cell_type": "code",
   "execution_count": 18,
   "metadata": {},
   "outputs": [],
   "source": [
    "insertFoodSql = \"INSERT INTO food(id, name, main_image, description, type, ingredient, like_count, view_count, calorie, carbohydrate, protein, province, salt) VALUES(%s,%s,%s,%s,%s,%s,0,0,%s,%s,%s,%s,%s)\"\n",
    "\n",
    "data = []\n",
    "for i in range(0, 1000):\n",
    "    data.append((int(foodList[i]['RCP_SEQ']), \n",
    "                 foodList[i]['RCP_NM'],\n",
    "                 foodList[i]['ATT_FILE_NO_MAIN'],\n",
    "                 foodList[i]['RCP_NA_TIP'],\n",
    "                 foodList[i]['RCP_WAY2'],\n",
    "                 foodList[i]['RCP_PARTS_DTLS'],\n",
    "                 int(float(foodList[i]['INFO_ENG'])), \n",
    "                 int(float(foodList[i]['INFO_CAR'])),\n",
    "                 int(float(foodList[i]['INFO_PRO'])),\n",
    "                 int(float(foodList[i]['INFO_FAT'])),\n",
    "                 int(float(foodList[i]['INFO_NA']))))\n",
    "\n",
    "try:\n",
    "    con.executemany(insertFoodSql, data)  # executemany로 데이터 삽입\n",
    "    db.commit()  # 모든 데이터 삽입 후에 커밋\n",
    "except Exception as e:\n",
    "    print(e)\n",
    "    db.rollback()  # 롤백하여 이전 상태로 복원\n"
   ]
  },
  {
   "cell_type": "code",
   "execution_count": 19,
   "metadata": {},
   "outputs": [],
   "source": [
    "insertRecipeSql = \"INSERT INTO recipe(id, food, recipeOrder, image, description) VALUES(%s,%s,%s,%s,%s)\"\n",
    "autoIcrId = 1\n",
    "\n",
    "data = []\n",
    "for i in range(0, 1000):\n",
    "    manualIndex = 1\n",
    "    while(foodList[i]['MANUAL' + str(manualIndex).zfill(2)] != \"\"):\n",
    "        data.append((autoIcrId, \n",
    "                     int(foodList[i]['RCP_SEQ']),\n",
    "                     manualIndex,\n",
    "                     foodList[i]['MANUAL_IMG' + str(manualIndex).zfill(2)],\n",
    "                     foodList[i]['MANUAL' + str(manualIndex).zfill(2)]))\n",
    "        autoIcrId += 1\n",
    "        manualIndex += 1\n",
    "\n",
    "try:\n",
    "    con.executemany(insertRecipeSql, data)  # executemany로 데이터 삽입\n",
    "    db.commit()  # 모든 데이터 삽입 후에 커밋\n",
    "except Exception as e:\n",
    "    print(e)\n",
    "    db.rollback()  # 롤백하여 이전 상태로 복원"
   ]
  }
 ],
 "metadata": {
  "kernelspec": {
   "display_name": "Python 3",
   "language": "python",
   "name": "python3"
  },
  "language_info": {
   "codemirror_mode": {
    "name": "ipython",
    "version": 3
   },
   "file_extension": ".py",
   "mimetype": "text/x-python",
   "name": "python",
   "nbconvert_exporter": "python",
   "pygments_lexer": "ipython3",
   "version": "3.10.2"
  }
 },
 "nbformat": 4,
 "nbformat_minor": 2
}
